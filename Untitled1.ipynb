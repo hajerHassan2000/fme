{
  "cells": [
    {
      "cell_type": "code",
      "execution_count": null,
      "metadata": {
        "colab": {
          "base_uri": "https://localhost:8080/"
        },
        "id": "H4ETVmNhCSM6",
        "outputId": "726bdd3d-c965-4c0c-87d5-dd50afc76f19"
      },
      "outputs": [
        {
          "name": "stdout",
          "output_type": "stream",
          "text": [
            "Looking in indexes: https://pypi.org/simple, https://us-python.pkg.dev/colab-wheels/public/simple/\n",
            "Collecting pyarabic\n",
            "  Downloading PyArabic-0.6.15-py3-none-any.whl (126 kB)\n",
            "\u001b[2K     \u001b[90m━━━━━━━━━━━━━━━━━━━━━━━━━━━━━━━━━━━━━━━\u001b[0m \u001b[32m126.4/126.4 KB\u001b[0m \u001b[31m1.6 MB/s\u001b[0m eta \u001b[36m0:00:00\u001b[0m\n",
            "\u001b[?25hRequirement already satisfied: six>=1.14.0 in /usr/local/lib/python3.8/dist-packages (from pyarabic) (1.15.0)\n",
            "Installing collected packages: pyarabic\n",
            "Successfully installed pyarabic-0.6.15\n",
            "Looking in indexes: https://pypi.org/simple, https://us-python.pkg.dev/colab-wheels/public/simple/\n",
            "Collecting PyStemmer==2.0.1\n",
            "  Downloading PyStemmer-2.0.1.tar.gz (559 kB)\n",
            "\u001b[2K     \u001b[90m━━━━━━━━━━━━━━━━━━━━━━━━━━━━━━━━━━━━━━━\u001b[0m \u001b[32m559.3/559.3 KB\u001b[0m \u001b[31m8.6 MB/s\u001b[0m eta \u001b[36m0:00:00\u001b[0m\n",
            "\u001b[?25h  Preparing metadata (setup.py) ... \u001b[?25l\u001b[?25hdone\n",
            "Building wheels for collected packages: PyStemmer\n",
            "  Building wheel for PyStemmer (setup.py) ... \u001b[?25l\u001b[?25hdone\n",
            "  Created wheel for PyStemmer: filename=PyStemmer-2.0.1-cp38-cp38-linux_x86_64.whl size=440053 sha256=1af120ae3db700b3193d5317f87bbb54bc57740aec0b6e4c2f28129b7a76c6ed\n",
            "  Stored in directory: /root/.cache/pip/wheels/8f/ad/b8/0f4f2e3d67e9779d05d27b11da12a3dbfa7143d00f456d4042\n",
            "Successfully built PyStemmer\n",
            "Installing collected packages: PyStemmer\n",
            "Successfully installed PyStemmer-2.0.1\n",
            "Looking in indexes: https://pypi.org/simple, https://us-python.pkg.dev/colab-wheels/public/simple/\n",
            "Collecting emoji\n",
            "  Downloading emoji-2.2.0.tar.gz (240 kB)\n",
            "\u001b[2K     \u001b[90m━━━━━━━━━━━━━━━━━━━━━━━━━━━━━━━━━━━━━━━\u001b[0m \u001b[32m240.9/240.9 KB\u001b[0m \u001b[31m5.2 MB/s\u001b[0m eta \u001b[36m0:00:00\u001b[0m\n",
            "\u001b[?25h  Preparing metadata (setup.py) ... \u001b[?25l\u001b[?25hdone\n",
            "Building wheels for collected packages: emoji\n",
            "  Building wheel for emoji (setup.py) ... \u001b[?25l\u001b[?25hdone\n",
            "  Created wheel for emoji: filename=emoji-2.2.0-py3-none-any.whl size=234926 sha256=1c56065cdf15815f23bc06363e7368ab274cc8f11f02e1559cf040d00667ec28\n",
            "  Stored in directory: /root/.cache/pip/wheels/86/62/9e/a6b27a681abcde69970dbc0326ff51955f3beac72f15696984\n",
            "Successfully built emoji\n",
            "Installing collected packages: emoji\n",
            "Successfully installed emoji-2.2.0\n",
            "Looking in indexes: https://pypi.org/simple, https://us-python.pkg.dev/colab-wheels/public/simple/\n",
            "Collecting flask-ngrok\n",
            "  Downloading flask_ngrok-0.0.25-py3-none-any.whl (3.1 kB)\n",
            "Requirement already satisfied: requests in /usr/local/lib/python3.8/dist-packages (from flask-ngrok) (2.25.1)\n",
            "Requirement already satisfied: Flask>=0.8 in /usr/local/lib/python3.8/dist-packages (from flask-ngrok) (1.1.4)\n",
            "Requirement already satisfied: itsdangerous<2.0,>=0.24 in /usr/local/lib/python3.8/dist-packages (from Flask>=0.8->flask-ngrok) (1.1.0)\n",
            "Requirement already satisfied: Werkzeug<2.0,>=0.15 in /usr/local/lib/python3.8/dist-packages (from Flask>=0.8->flask-ngrok) (1.0.1)\n",
            "Requirement already satisfied: Jinja2<3.0,>=2.10.1 in /usr/local/lib/python3.8/dist-packages (from Flask>=0.8->flask-ngrok) (2.11.3)\n",
            "Requirement already satisfied: click<8.0,>=5.1 in /usr/local/lib/python3.8/dist-packages (from Flask>=0.8->flask-ngrok) (7.1.2)\n",
            "Requirement already satisfied: certifi>=2017.4.17 in /usr/local/lib/python3.8/dist-packages (from requests->flask-ngrok) (2022.12.7)\n",
            "Requirement already satisfied: urllib3<1.27,>=1.21.1 in /usr/local/lib/python3.8/dist-packages (from requests->flask-ngrok) (1.24.3)\n",
            "Requirement already satisfied: idna<3,>=2.5 in /usr/local/lib/python3.8/dist-packages (from requests->flask-ngrok) (2.10)\n",
            "Requirement already satisfied: chardet<5,>=3.0.2 in /usr/local/lib/python3.8/dist-packages (from requests->flask-ngrok) (4.0.0)\n",
            "Requirement already satisfied: MarkupSafe>=0.23 in /usr/local/lib/python3.8/dist-packages (from Jinja2<3.0,>=2.10.1->Flask>=0.8->flask-ngrok) (2.0.1)\n",
            "Installing collected packages: flask-ngrok\n",
            "Successfully installed flask-ngrok-0.0.25\n"
          ]
        }
      ],
      "source": [
        "!pip install pyarabic\n",
        "!pip install PyStemmer==2.0.1\n",
        "!pip install emoji\n",
        "!pip install flask-ngrok"
      ]
    },
    {
      "cell_type": "code",
      "execution_count": null,
      "metadata": {
        "id": "xY7OLWo-Cpa5"
      },
      "outputs": [],
      "source": [
        "from flask import request\n",
        "from flask import Flask, render_template\n",
        "import pickle\n",
        "import pandas as pd\n",
        "import numpy as np\n",
        "import re\n",
        "import pyarabic.araby as ar\n",
        "import emoji, Stemmer, functools, operator, string\n",
        "from sklearn.feature_extraction.text import TfidfVectorizer\n",
        "from sklearn.svm import SVC\n",
        "from sklearn.naive_bayes import MultinomialNB"
      ]
    },
    {
      "cell_type": "code",
      "execution_count": null,
      "metadata": {
        "colab": {
          "base_uri": "https://localhost:8080/",
          "height": 34
        },
        "id": "oOzhqIZ8DXer",
        "outputId": "0c5250e7-0eb2-44fe-8624-4086496f84b9"
      },
      "outputs": [
        {
          "name": "stdout",
          "output_type": "stream",
          "text": [
            "https://bs5636sywvo-496ff2e9c6d22116-5000-colab.googleusercontent.com/\n"
          ]
        }
      ],
      "source": [
        "from google.colab.output import eval_js\n",
        "print(eval_js(\"google.colab.kernel.proxyPort(5000)\"))"
      ]
    },
    {
      "cell_type": "code",
      "execution_count": null,
      "metadata": {
        "colab": {
          "base_uri": "https://localhost:8080/"
        },
        "id": "CSUIg2wbEGGy",
        "outputId": "a85df7e9-b548-4213-b44f-4f882cb5128f"
      },
      "outputs": [
        {
          "name": "stdout",
          "output_type": "stream",
          "text": [
            "Mounted at /content/drive\n"
          ]
        }
      ],
      "source": [
        "from google.colab import drive\n",
        "drive.mount('/content/drive')"
      ]
    },
    {
      "cell_type": "code",
      "execution_count": null,
      "metadata": {
        "id": "Rsutd8H1OPrs"
      },
      "outputs": [],
      "source": [
        "app = Flask(__name__, template_folder='/content/drive/MyDrive/project 2/website_colab/websiteP/templateFiles', static_folder='/content/drive/MyDrive/project 2/website_colab/websiteP/staticFiles')\n",
        "\n",
        "vectorizer=pickle.load(open(f'/content/drive/MyDrive/project 2/website_colab/websiteP/clfvec/vectorizer.pkl', 'rb'))\n",
        "mnb=pickle.load(open(f'/content/drive/MyDrive/project 2/website_colab/websiteP/clfvec/mnb.pkl', 'rb'))\n",
        "knn=pickle.load(open(f'/content/drive/MyDrive/project 2/website_colab/websiteP/clfvec/knn8.pkl', 'rb'))\n",
        "svm=pickle.load(open(f'/content/drive/MyDrive/project 2/website_colab/websiteP/clfvec/svm.pkl', 'rb'))\n"
      ]
    },
    {
      "cell_type": "code",
      "execution_count": null,
      "metadata": {
        "id": "-Mw3YfHnOiGy"
      },
      "outputs": [],
      "source": [
        "st =  Stemmer.Stemmer('arabic')\n",
        "def data_cleaning (text):\n",
        "  text = re.sub(r'^https?:\\/\\/.*[\\r\\n]*', '', text, flags=re.MULTILINE)\n",
        "  text = re.sub(r'^http?:\\/\\/.*[\\r\\n]*', '', text, flags=re.MULTILINE)\n",
        "  text = re.sub(r\"http\\S+\", \"\", text)\n",
        "  text = re.sub(r\"https\\S+\", \"\", text)\n",
        "  text = re.sub(r'\\s+', ' ', text)\n",
        "  text = re.sub(\"(\\s\\d+)\",\"\",text) \n",
        "  text = re.sub(r\"$\\d+\\W+|\\b\\d+\\b|\\W+\\d+$\", \"\", text)\n",
        "  text = re.sub(\"\\d+\", \" \", text)\n",
        "  text = ar.strip_tashkeel(text)\n",
        "  text = ar.strip_tatweel(text)\n",
        "  text = text.replace(\"#\", \" \");\n",
        "  text = text.replace(\"@\", \" \");\n",
        "  text = text.replace(\"_\", \" \");\n",
        "  translator = str.maketrans('', '', string.punctuation)\n",
        "  text = text.translate(translator)\n",
        "  em = text\n",
        "  #em_split_emoji = emoji.get_emoji_regexp().split(em)\n",
        "  #em_split_whitespace = [substr.split() for substr in em_split_emoji]\n",
        "  #em_split = functools.reduce(operator.concat, em_split_whitespace)\n",
        "  #text = \" \".join(em_split)\n",
        "  emoji_pattern = re.compile(\"[\"\n",
        "        u\"\\U0001F600-\\U0001F64F\"  # emoticons\n",
        "        u\"\\U0001F300-\\U0001F5FF\"  # symbols & pictographs\n",
        "        u\"\\U0001F680-\\U0001F6FF\"  # transport & map symbols\n",
        "        u\"\\U0001F1E0-\\U0001F1FF\"  # flags (iOS)\n",
        "                           \"]+\", flags=re.UNICODE)\n",
        "  text= emoji_pattern.sub(r'', text)\n",
        "  text= re.sub(r'\\s*[A-Za-z]+\\b', '' , text)\n",
        "  text = re.sub(r'(.)\\1+', r'\\1', text)\n",
        "  text_stem = \" \".join([st.stemWord(i) for i in text.split()])\n",
        "  text = text +\" \"+ text_stem\n",
        "  text = text.replace(\"آ\", \"ا\")\n",
        "  text = text.replace(\"إ\", \"ا\")\n",
        "  text = text.replace(\"أ\", \"ا\")\n",
        "  text = text.replace(\"ؤ\", \"و\")\n",
        "  text = text.replace(\"ئ\", \"ي\")\n",
        "   \n",
        "  return text\n",
        "\n",
        "\n"
      ]
    },
    {
      "cell_type": "code",
      "execution_count": null,
      "metadata": {
        "colab": {
          "background_save": true,
          "base_uri": "https://localhost:8080/"
        },
        "id": "gVpUET_rPWmd",
        "outputId": "7e9f8b0e-e6ad-496b-9255-ba39992c141b"
      },
      "outputs": [
        {
          "name": "stdout",
          "output_type": "stream",
          "text": [
            " * Serving Flask app \"__main__\" (lazy loading)\n",
            " * Environment: production\n",
            "\u001b[31m   WARNING: This is a development server. Do not use it in a production deployment.\u001b[0m\n",
            "\u001b[2m   Use a production WSGI server instead.\u001b[0m\n",
            " * Debug mode: off\n"
          ]
        },
        {
          "name": "stderr",
          "output_type": "stream",
          "text": [
            "INFO:werkzeug: * Running on http://127.0.0.1:5000/ (Press CTRL+C to quit)\n",
            "INFO:werkzeug:127.0.0.1 - - [17/Jan/2023 19:28:04] \"\u001b[37mGET / HTTP/1.1\u001b[0m\" 200 -\n",
            "INFO:werkzeug:127.0.0.1 - - [17/Jan/2023 19:28:06] \"\u001b[37mGET /staticFiles/css/style.css HTTP/1.1\u001b[0m\" 200 -\n",
            "INFO:werkzeug:127.0.0.1 - - [17/Jan/2023 19:28:07] \"\u001b[37mGET /staticFiles/background4_.png HTTP/1.1\u001b[0m\" 200 -\n",
            "INFO:werkzeug:127.0.0.1 - - [17/Jan/2023 19:28:07] \"\u001b[37mGET /staticFiles/background_.png HTTP/1.1\u001b[0m\" 200 -\n",
            "INFO:werkzeug:127.0.0.1 - - [17/Jan/2023 19:28:07] \"\u001b[37mGET /staticFiles/background2_.png HTTP/1.1\u001b[0m\" 200 -\n",
            "INFO:werkzeug:127.0.0.1 - - [17/Jan/2023 19:28:07] \"\u001b[37mGET /staticFiles/background3_.png HTTP/1.1\u001b[0m\" 200 -\n",
            "INFO:werkzeug:127.0.0.1 - - [17/Jan/2023 19:28:08] \"\u001b[33mGET /favicon.ico HTTP/1.1\u001b[0m\" 404 -\n",
            "INFO:werkzeug:127.0.0.1 - - [17/Jan/2023 19:28:37] \"\u001b[37mPOST / HTTP/1.1\u001b[0m\" 200 -\n",
            "INFO:werkzeug:127.0.0.1 - - [17/Jan/2023 19:28:38] \"\u001b[37mGET /staticFiles/css/style.css HTTP/1.1\u001b[0m\" 200 -\n",
            "INFO:werkzeug:127.0.0.1 - - [17/Jan/2023 19:28:38] \"\u001b[37mGET /staticFiles/positive.png HTTP/1.1\u001b[0m\" 200 -\n",
            "INFO:werkzeug:127.0.0.1 - - [17/Jan/2023 19:28:38] \"\u001b[37mGET /staticFiles/background_.png HTTP/1.1\u001b[0m\" 200 -\n",
            "INFO:werkzeug:127.0.0.1 - - [17/Jan/2023 19:28:38] \"\u001b[37mGET /staticFiles/background2_.png HTTP/1.1\u001b[0m\" 200 -\n",
            "INFO:werkzeug:127.0.0.1 - - [17/Jan/2023 19:28:38] \"\u001b[37mGET /staticFiles/background3_.png HTTP/1.1\u001b[0m\" 200 -\n",
            "INFO:werkzeug:127.0.0.1 - - [17/Jan/2023 19:28:38] \"\u001b[37mGET /staticFiles/background4_.png HTTP/1.1\u001b[0m\" 200 -\n",
            "INFO:werkzeug:127.0.0.1 - - [17/Jan/2023 19:28:39] \"\u001b[33mGET /favicon.ico HTTP/1.1\u001b[0m\" 404 -\n",
            "INFO:werkzeug:127.0.0.1 - - [17/Jan/2023 19:28:40] \"\u001b[37mPOST / HTTP/1.1\u001b[0m\" 200 -\n",
            "INFO:werkzeug:127.0.0.1 - - [17/Jan/2023 19:28:40] \"\u001b[37mGET /staticFiles/css/style.css HTTP/1.1\u001b[0m\" 200 -\n",
            "INFO:werkzeug:127.0.0.1 - - [17/Jan/2023 19:28:40] \"\u001b[37mGET /staticFiles/positive.png HTTP/1.1\u001b[0m\" 200 -\n",
            "INFO:werkzeug:127.0.0.1 - - [17/Jan/2023 19:28:41] \"\u001b[37mGET /staticFiles/background_.png HTTP/1.1\u001b[0m\" 200 -\n",
            "INFO:werkzeug:127.0.0.1 - - [17/Jan/2023 19:28:41] \"\u001b[37mGET /staticFiles/background3_.png HTTP/1.1\u001b[0m\" 200 -\n",
            "INFO:werkzeug:127.0.0.1 - - [17/Jan/2023 19:28:41] \"\u001b[37mGET /staticFiles/background2_.png HTTP/1.1\u001b[0m\" 200 -\n",
            "INFO:werkzeug:127.0.0.1 - - [17/Jan/2023 19:28:41] \"\u001b[37mGET /staticFiles/background4_.png HTTP/1.1\u001b[0m\" 200 -\n",
            "INFO:werkzeug:127.0.0.1 - - [17/Jan/2023 19:28:42] \"\u001b[33mGET /favicon.ico HTTP/1.1\u001b[0m\" 404 -\n",
            "INFO:werkzeug:127.0.0.1 - - [17/Jan/2023 19:28:43] \"\u001b[37mPOST / HTTP/1.1\u001b[0m\" 200 -\n",
            "INFO:werkzeug:127.0.0.1 - - [17/Jan/2023 19:28:43] \"\u001b[37mGET /staticFiles/css/style.css HTTP/1.1\u001b[0m\" 200 -\n",
            "INFO:werkzeug:127.0.0.1 - - [17/Jan/2023 19:28:43] \"\u001b[37mGET /staticFiles/positive.png HTTP/1.1\u001b[0m\" 200 -\n",
            "INFO:werkzeug:127.0.0.1 - - [17/Jan/2023 19:28:44] \"\u001b[37mGET /staticFiles/background_.png HTTP/1.1\u001b[0m\" 200 -\n",
            "INFO:werkzeug:127.0.0.1 - - [17/Jan/2023 19:28:44] \"\u001b[37mGET /staticFiles/background2_.png HTTP/1.1\u001b[0m\" 200 -\n",
            "INFO:werkzeug:127.0.0.1 - - [17/Jan/2023 19:28:44] \"\u001b[37mGET /staticFiles/background4_.png HTTP/1.1\u001b[0m\" 200 -\n",
            "INFO:werkzeug:127.0.0.1 - - [17/Jan/2023 19:28:44] \"\u001b[37mGET /staticFiles/background3_.png HTTP/1.1\u001b[0m\" 200 -\n",
            "INFO:werkzeug:127.0.0.1 - - [17/Jan/2023 19:28:45] \"\u001b[37mPOST / HTTP/1.1\u001b[0m\" 200 -\n",
            "INFO:werkzeug:127.0.0.1 - - [17/Jan/2023 19:28:45] \"\u001b[37mGET /staticFiles/css/style.css HTTP/1.1\u001b[0m\" 200 -\n",
            "INFO:werkzeug:127.0.0.1 - - [17/Jan/2023 19:28:45] \"\u001b[37mGET /staticFiles/positive.png HTTP/1.1\u001b[0m\" 200 -\n",
            "INFO:werkzeug:127.0.0.1 - - [17/Jan/2023 19:28:45] \"\u001b[37mGET /staticFiles/background_.png HTTP/1.1\u001b[0m\" 200 -\n",
            "INFO:werkzeug:127.0.0.1 - - [17/Jan/2023 19:28:45] \"\u001b[37mGET /staticFiles/background3_.png HTTP/1.1\u001b[0m\" 200 -\n",
            "INFO:werkzeug:127.0.0.1 - - [17/Jan/2023 19:28:45] \"\u001b[37mGET /staticFiles/background2_.png HTTP/1.1\u001b[0m\" 200 -\n",
            "INFO:werkzeug:127.0.0.1 - - [17/Jan/2023 19:28:45] \"\u001b[37mGET /staticFiles/background4_.png HTTP/1.1\u001b[0m\" 200 -\n",
            "INFO:werkzeug:127.0.0.1 - - [17/Jan/2023 19:28:46] \"\u001b[33mGET /favicon.ico HTTP/1.1\u001b[0m\" 404 -\n"
          ]
        }
      ],
      "source": [
        "def predict_sentiment(X, classifier):\n",
        "    return classifier.predict(vectorizer.transform(X))\n",
        "\n",
        "\n",
        "\n",
        "@app.route('/')\n",
        "def main_page11():\n",
        "    return render_template('home.html')\n",
        "\n",
        "@app.route('/', methods=['POST'])\n",
        "def sentiment_prediction1():\n",
        "    if request.form['submit'] == 'mnb':\n",
        "        classifier=mnb\n",
        "    elif request.form['submit'] == 'svm':\n",
        "        classifier=svm\n",
        "    elif request.form['submit'] == 'knn':\n",
        "        classifier=knn\n",
        "    \n",
        "    text = request.form['text_input']\n",
        "    text1 = data_cleaning (text)\n",
        "    predcited_sentiment = predict_sentiment(np.array([text1]), classifier)\n",
        "    predcited_sentiment = str(predcited_sentiment.squeeze())\n",
        "    output=\"<p>The tweet\\'s sentiment is <br>\"+predcited_sentiment+\"<img src='/staticFiles/\"+predcited_sentiment+\".png'></p>\"\n",
        "\n",
        "    return(render_template('home.html',anchor=\"Analyze\", input_text=text ,sentiment=output))\n",
        "\n",
        "if __name__ == \"__main__\":\n",
        "    app.run()"
      ]
    }
  ],
  "metadata": {
    "colab": {
      "provenance": []
    },
    "kernelspec": {
      "display_name": "Python 3",
      "name": "python3"
    },
    "language_info": {
      "name": "python"
    }
  },
  "nbformat": 4,
  "nbformat_minor": 0
}